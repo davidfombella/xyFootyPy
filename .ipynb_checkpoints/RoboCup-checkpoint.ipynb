{
 "cells": [
  {
   "cell_type": "markdown",
   "metadata": {},
   "source": [
    "##### First we need to import some standard packages"
   ]
  },
  {
   "cell_type": "code",
   "execution_count": 1,
   "metadata": {},
   "outputs": [],
   "source": [
    "import numpy as np\n",
    "import pandas as pd\n",
    "import matplotlib.pyplot as plt\n",
    "import seaborn as sns\n",
    "sns.set_style('dark')\n",
    "%matplotlib notebook"
   ]
  },
  {
   "cell_type": "markdown",
   "metadata": {},
   "source": [
    "##### Load the dataset"
   ]
  },
  {
   "cell_type": "code",
   "execution_count": 2,
   "metadata": {},
   "outputs": [],
   "source": [
    "data = pd.read_csv('groundtruth.csv')"
   ]
  },
  {
   "cell_type": "code",
   "execution_count": 3,
   "metadata": {},
   "outputs": [
    {
     "data": {
      "text/html": [
       "<div>\n",
       "<style scoped>\n",
       "    .dataframe tbody tr th:only-of-type {\n",
       "        vertical-align: middle;\n",
       "    }\n",
       "\n",
       "    .dataframe tbody tr th {\n",
       "        vertical-align: top;\n",
       "    }\n",
       "\n",
       "    .dataframe thead th {\n",
       "        text-align: right;\n",
       "    }\n",
       "</style>\n",
       "<table border=\"1\" class=\"dataframe\">\n",
       "  <thead>\n",
       "    <tr style=\"text-align: right;\">\n",
       "      <th></th>\n",
       "      <th># time</th>\n",
       "      <th>playmode</th>\n",
       "      <th>score left</th>\n",
       "      <th>score right</th>\n",
       "      <th>ball_x</th>\n",
       "      <th>ball_y</th>\n",
       "      <th>ball_vx</th>\n",
       "      <th>ball_vy</th>\n",
       "      <th>LG1 x</th>\n",
       "      <th>LG1 y</th>\n",
       "      <th>...</th>\n",
       "      <th>R10 vieww</th>\n",
       "      <th>R10 viewq</th>\n",
       "      <th>R11 x</th>\n",
       "      <th>R11 y</th>\n",
       "      <th>R11 vx</th>\n",
       "      <th>R11 vy</th>\n",
       "      <th>R11 body</th>\n",
       "      <th>R11 head</th>\n",
       "      <th>R11 vieww</th>\n",
       "      <th>R11 viewq</th>\n",
       "    </tr>\n",
       "  </thead>\n",
       "  <tbody>\n",
       "    <tr>\n",
       "      <th>0</th>\n",
       "      <td>1</td>\n",
       "      <td>kick_off_l</td>\n",
       "      <td>0</td>\n",
       "      <td>0</td>\n",
       "      <td>0.0</td>\n",
       "      <td>0.0</td>\n",
       "      <td>0.0</td>\n",
       "      <td>0.0</td>\n",
       "      <td>-49.0000</td>\n",
       "      <td>0.000000</td>\n",
       "      <td>...</td>\n",
       "      <td>180</td>\n",
       "      <td>1</td>\n",
       "      <td>9.52499</td>\n",
       "      <td>0.000000</td>\n",
       "      <td>0.000000</td>\n",
       "      <td>0.000000</td>\n",
       "      <td>-107.666</td>\n",
       "      <td>162.334</td>\n",
       "      <td>180</td>\n",
       "      <td>1</td>\n",
       "    </tr>\n",
       "    <tr>\n",
       "      <th>1</th>\n",
       "      <td>2</td>\n",
       "      <td>kick_off_l</td>\n",
       "      <td>0</td>\n",
       "      <td>0</td>\n",
       "      <td>0.0</td>\n",
       "      <td>0.0</td>\n",
       "      <td>0.0</td>\n",
       "      <td>0.0</td>\n",
       "      <td>-49.2471</td>\n",
       "      <td>-0.085495</td>\n",
       "      <td>...</td>\n",
       "      <td>180</td>\n",
       "      <td>1</td>\n",
       "      <td>9.44170</td>\n",
       "      <td>-0.395493</td>\n",
       "      <td>-0.044998</td>\n",
       "      <td>-0.157806</td>\n",
       "      <td>-107.666</td>\n",
       "      <td>178.334</td>\n",
       "      <td>60</td>\n",
       "      <td>1</td>\n",
       "    </tr>\n",
       "    <tr>\n",
       "      <th>2</th>\n",
       "      <td>3</td>\n",
       "      <td>kick_off_l</td>\n",
       "      <td>0</td>\n",
       "      <td>0</td>\n",
       "      <td>0.0</td>\n",
       "      <td>0.0</td>\n",
       "      <td>0.0</td>\n",
       "      <td>0.0</td>\n",
       "      <td>-49.5640</td>\n",
       "      <td>-0.175400</td>\n",
       "      <td>...</td>\n",
       "      <td>120</td>\n",
       "      <td>1</td>\n",
       "      <td>9.40350</td>\n",
       "      <td>-0.936005</td>\n",
       "      <td>0.000000</td>\n",
       "      <td>0.000000</td>\n",
       "      <td>-107.666</td>\n",
       "      <td>174.334</td>\n",
       "      <td>60</td>\n",
       "      <td>1</td>\n",
       "    </tr>\n",
       "    <tr>\n",
       "      <th>3</th>\n",
       "      <td>4</td>\n",
       "      <td>kick_off_l</td>\n",
       "      <td>0</td>\n",
       "      <td>0</td>\n",
       "      <td>0.0</td>\n",
       "      <td>0.0</td>\n",
       "      <td>0.0</td>\n",
       "      <td>0.0</td>\n",
       "      <td>-49.9038</td>\n",
       "      <td>-0.266296</td>\n",
       "      <td>...</td>\n",
       "      <td>120</td>\n",
       "      <td>1</td>\n",
       "      <td>9.35361</td>\n",
       "      <td>-1.346300</td>\n",
       "      <td>0.000000</td>\n",
       "      <td>0.000000</td>\n",
       "      <td>-107.666</td>\n",
       "      <td>172.334</td>\n",
       "      <td>60</td>\n",
       "      <td>1</td>\n",
       "    </tr>\n",
       "    <tr>\n",
       "      <th>4</th>\n",
       "      <td>5</td>\n",
       "      <td>kick_off_l</td>\n",
       "      <td>0</td>\n",
       "      <td>0</td>\n",
       "      <td>0.0</td>\n",
       "      <td>0.0</td>\n",
       "      <td>0.0</td>\n",
       "      <td>0.0</td>\n",
       "      <td>-50.0231</td>\n",
       "      <td>-0.287903</td>\n",
       "      <td>...</td>\n",
       "      <td>120</td>\n",
       "      <td>1</td>\n",
       "      <td>9.28371</td>\n",
       "      <td>-1.765000</td>\n",
       "      <td>-0.042404</td>\n",
       "      <td>-0.164795</td>\n",
       "      <td>-107.666</td>\n",
       "      <td>169.334</td>\n",
       "      <td>60</td>\n",
       "      <td>1</td>\n",
       "    </tr>\n",
       "  </tbody>\n",
       "</table>\n",
       "<p>5 rows × 184 columns</p>\n",
       "</div>"
      ],
      "text/plain": [
       "   # time     playmode   score left   score right   ball_x   ball_y   ball_vx  \\\n",
       "0       1   kick_off_l            0             0      0.0      0.0       0.0   \n",
       "1       2   kick_off_l            0             0      0.0      0.0       0.0   \n",
       "2       3   kick_off_l            0             0      0.0      0.0       0.0   \n",
       "3       4   kick_off_l            0             0      0.0      0.0       0.0   \n",
       "4       5   kick_off_l            0             0      0.0      0.0       0.0   \n",
       "\n",
       "    ball_vy    LG1 x     LG1 y     ...       R10 vieww   R10 viewq    R11 x  \\\n",
       "0       0.0 -49.0000  0.000000     ...             180           1  9.52499   \n",
       "1       0.0 -49.2471 -0.085495     ...             180           1  9.44170   \n",
       "2       0.0 -49.5640 -0.175400     ...             120           1  9.40350   \n",
       "3       0.0 -49.9038 -0.266296     ...             120           1  9.35361   \n",
       "4       0.0 -50.0231 -0.287903     ...             120           1  9.28371   \n",
       "\n",
       "      R11 y    R11 vx    R11 vy   R11 body   R11 head   R11 vieww   R11 viewq  \n",
       "0  0.000000  0.000000  0.000000   -107.666    162.334         180           1  \n",
       "1 -0.395493 -0.044998 -0.157806   -107.666    178.334          60           1  \n",
       "2 -0.936005  0.000000  0.000000   -107.666    174.334          60           1  \n",
       "3 -1.346300  0.000000  0.000000   -107.666    172.334          60           1  \n",
       "4 -1.765000 -0.042404 -0.164795   -107.666    169.334          60           1  \n",
       "\n",
       "[5 rows x 184 columns]"
      ]
     },
     "execution_count": 3,
     "metadata": {},
     "output_type": "execute_result"
    }
   ],
   "source": [
    "data.head()"
   ]
  },
  {
   "cell_type": "markdown",
   "metadata": {},
   "source": [
    "##### Extracted from http://oliver.obst.eu/data/RoboCupSimData/overview.html\n",
    "The data here is the groundtruth data of the One Game Example between Gliders2016 and HELIOS2016"
   ]
  },
  {
   "cell_type": "markdown",
   "metadata": {},
   "source": [
    "There is a vast dataset of RoboCup Soccer available. The dataset is made available under the Open Database License (ODbL) v1.0"
   ]
  },
  {
   "cell_type": "markdown",
   "metadata": {},
   "source": [
    "The paper about this dataset can be found here http://arxiv.org/abs/1711.01703"
   ]
  },
  {
   "cell_type": "markdown",
   "metadata": {},
   "source": [
    "##### Let's get an idea of how the data looks like"
   ]
  },
  {
   "cell_type": "code",
   "execution_count": 4,
   "metadata": {},
   "outputs": [
    {
     "data": {
      "text/plain": [
       "(6329, 184)"
      ]
     },
     "execution_count": 4,
     "metadata": {},
     "output_type": "execute_result"
    }
   ],
   "source": [
    "data.shape"
   ]
  },
  {
   "cell_type": "code",
   "execution_count": 5,
   "metadata": {},
   "outputs": [
    {
     "data": {
      "text/plain": [
       "8.0"
      ]
     },
     "execution_count": 5,
     "metadata": {},
     "output_type": "execute_result"
    }
   ],
   "source": [
    "data.shape[1] / 23 #Players and the ball"
   ]
  },
  {
   "cell_type": "markdown",
   "metadata": {},
   "source": [
    "So it seems we have 8 variables per player for each of the 6329 frames in the dataset"
   ]
  },
  {
   "cell_type": "markdown",
   "metadata": {},
   "source": [
    "Each Frame is an observation of the game at 10 frames per Second"
   ]
  },
  {
   "cell_type": "markdown",
   "metadata": {},
   "source": [
    "##### Let's look at a frame"
   ]
  },
  {
   "cell_type": "code",
   "execution_count": 6,
   "metadata": {},
   "outputs": [
    {
     "data": {
      "text/plain": [
       "# time                 101\n",
       " playmode          play_on\n",
       " score left              0\n",
       " score right             0\n",
       " ball_x            -0.1655\n",
       " ball_y            -2.4616\n",
       " ball_vx             0.227\n",
       " ball_vy           -1.2868\n",
       " LG1 x            -50.0951\n",
       " LG1 y             -0.3013\n",
       " LG1 vx                  0\n",
       " LG1 vy                  0\n",
       " LG1 body         -89.4084\n",
       " LG1 head         0.591877\n",
       " LG1 vieww             180\n",
       " LG1 viewq               1\n",
       " L2 x             -14.9207\n",
       " L2 y              -4.7558\n",
       " L2 vx         -0.00390625\n",
       " L2 vy         -0.00759888\n",
       " L2 body             8.469\n",
       " L2 head           38.4694\n",
       " L2 vieww               60\n",
       " L2 viewq                1\n",
       " L3 x             -14.9437\n",
       " L3 y               4.6171\n",
       " L3 vx         -0.00689697\n",
       " L3 vy           0.0135956\n",
       " L3 body          -28.2964\n",
       " L3 head          -15.2961\n",
       "                   ...    \n",
       " R8 vx           -0.280106\n",
       " R8 vy           -0.209793\n",
       " R8 body          -147.578\n",
       " R8 head           132.421\n",
       " R8 vieww               60\n",
       " R8 viewq                1\n",
       " R9 x               2.2998\n",
       " R9 y              22.6358\n",
       " R9 vx           -0.105698\n",
       " R9 vy           0.0702057\n",
       " R9 body          -137.624\n",
       " R9 head           132.376\n",
       " R9 vieww              120\n",
       " R9 viewq                1\n",
       " R10 x             2.94521\n",
       " R10 y            -23.0943\n",
       " R10 vx          -0.276703\n",
       " R10 vy          -0.072403\n",
       " R10 body          -168.07\n",
       " R10 head         -148.071\n",
       " R10 vieww             120\n",
       " R10 viewq               1\n",
       " R11 x              5.5894\n",
       " R11 y            -2.21989\n",
       " R11 vx          -0.328796\n",
       " R11 vy           0.247604\n",
       " R11 body          144.908\n",
       " R11 head          166.908\n",
       " R11 vieww              60\n",
       " R11 viewq               1\n",
       "Name: 100, Length: 184, dtype: object"
      ]
     },
     "execution_count": 6,
     "metadata": {},
     "output_type": "execute_result"
    }
   ],
   "source": [
    "data.iloc[100,:]"
   ]
  },
  {
   "cell_type": "markdown",
   "metadata": {},
   "source": [
    "##### Not quite. First 4 Columns are: time, playmode , score left , score right"
   ]
  },
  {
   "cell_type": "markdown",
   "metadata": {},
   "source": [
    "##### Still, we can convert a frame of the data to an ndarray and reshape it to have 8 columns to have each player's values in one row"
   ]
  },
  {
   "cell_type": "markdown",
   "metadata": {},
   "source": [
    "X and Y Coordinates match the standard proportions of the pitch 105 x 68m with\n",
    "x ranging from -52.5 to 52.5 and\n",
    "y ranging from -34 to 34"
   ]
  },
  {
   "cell_type": "code",
   "execution_count": 7,
   "metadata": {},
   "outputs": [],
   "source": [
    "#So let's some frame\n",
    "frame_nr = 100\n",
    "\n",
    "#and reshape the data that each player's variables are in one row\n",
    "frame = np.array(data.iloc[frame_nr,:]).reshape(-1,8)"
   ]
  },
  {
   "cell_type": "markdown",
   "metadata": {},
   "source": [
    "##### So right now our data looks like this:"
   ]
  },
  {
   "cell_type": "code",
   "execution_count": 8,
   "metadata": {},
   "outputs": [
    {
     "data": {
      "text/plain": [
       "array([[101, ' play_on', 0, 0, -0.1655, -2.4616, 0.22699999999999998,\n",
       "        -1.2868],\n",
       "       [-50.0951, -0.3013, 0.0, 0.0, -89.4084, 0.5918770000000001, 180,\n",
       "        1],\n",
       "       [-14.9207, -4.7558, -0.00390625, -0.00759888, 8.469, 38.4694, 60,\n",
       "        1],\n",
       "       [-14.9437, 4.6171, -0.00689697, 0.013595600000000001, -28.2964,\n",
       "        -15.2961, 60, 1],\n",
       "       [-11.6683, -15.474, -0.033493, -0.00419617, -45.7887, -45.7887,\n",
       "        60, 1],\n",
       "       [-12.0468, 15.3523, -0.06530760000000001, 0.0639038, -126.446,\n",
       "        -55.4458, 120, 1],\n",
       "       [-1.3307, -0.44239799999999996, 0.0, 0.0, -132.53, -178.53, 60, 1],\n",
       "       [-0.6669010000000001, -7.0334, 0.173096, -0.072403, -24.8536,\n",
       "        65.1467, 60, 1],\n",
       "       [-0.8316959999999999, 6.4734, 0.0, 0.0, 80.0922, -9.90804, 180, 1],\n",
       "       [1.47749, -23.9598, 0.250305, 0.00970459, 1.4504, 51.4504, 60, 1],\n",
       "       [1.76331, 26.2689, 0.26969899999999997, -0.0187073,\n",
       "        -4.0128699999999995, -94.0131, 120, 1],\n",
       "       [1.22701, -0.24780300000000002, 0.172806, -0.0341949, -7.57725,\n",
       "        82.42299999999999, 60, 1],\n",
       "       [40.6127, 1.3284, 0.00019836400000000003, -0.00250244, -87.0487,\n",
       "        -177.049, 60, 1],\n",
       "       [14.6145, 3.0621, -0.156998, -0.154099, -133.14700000000002,\n",
       "        -164.14700000000002, 60, 1],\n",
       "       [14.1235, -1.3941, -0.179596, 0.23590100000000003, 127.727,\n",
       "        178.72799999999998, 60, 1],\n",
       "       [15.0673, 19.3156, -0.00559998, 0.0890045, -162.142,\n",
       "        -124.14200000000001, 120, 1],\n",
       "       [15.1464, -17.338, -0.100494, -0.290695, -105.598,\n",
       "        -154.59799999999998, 60, 1],\n",
       "       [7.2312899999999996, -0.3022, -0.28880300000000003, -0.0402985,\n",
       "        -174.803, -176.803, 60, 1],\n",
       "       [9.2124, 10.0075, -0.030807499999999998, 0.00849915, 163.905,\n",
       "        -121.095, 60, 1],\n",
       "       [8.4427, -10.9403, -0.280106, -0.20979299999999998, -147.578,\n",
       "        132.421, 60, 1],\n",
       "       [2.2998, 22.6358, -0.105698, 0.0702057, -137.624, 132.376, 120, 1],\n",
       "       [2.94521, -23.0943, -0.27670300000000003, -0.072403, -168.07,\n",
       "        -148.071, 120, 1],\n",
       "       [5.5894, -2.2198900000000004, -0.328796, 0.247604, 144.908,\n",
       "        166.908, 60, 1]], dtype=object)"
      ]
     },
     "execution_count": 8,
     "metadata": {},
     "output_type": "execute_result"
    }
   ],
   "source": [
    "frame"
   ]
  },
  {
   "cell_type": "markdown",
   "metadata": {},
   "source": [
    "##### For now we can safely ignore the last 4 columns for the players (which are body pos, head pos, and view variables)\n",
    "##### And the first 4 (time, play-situation, Goals L, Goals R) of the first row are not important for now either"
   ]
  },
  {
   "cell_type": "markdown",
   "metadata": {},
   "source": [
    "##### Let's look at the play situations anyway to get an idea of what is included there"
   ]
  },
  {
   "cell_type": "code",
   "execution_count": 9,
   "metadata": {},
   "outputs": [
    {
     "data": {
      "text/plain": [
       " play_on          4103\n",
       " free_kick_r       658\n",
       " free_kick_l       380\n",
       " kick_in_l         288\n",
       " kick_in_r         282\n",
       " foul_charge_l     210\n",
       " foul_charge_r     120\n",
       " corner_kick_l      96\n",
       " kick_off_l         95\n",
       " corner_kick_r      94\n",
       " kick_off_r          2\n",
       " time_over           1\n",
       "Name:  playmode, dtype: int64"
      ]
     },
     "execution_count": 9,
     "metadata": {},
     "output_type": "execute_result"
    }
   ],
   "source": [
    "data.iloc[:,1].value_counts()"
   ]
  },
  {
   "cell_type": "markdown",
   "metadata": {},
   "source": [
    "##### Let's remove the unwanted variables. We want to keep the x,y coordinates and the x,y velocities\n",
    "##### That should result in a 23*4 array\n",
    "##### Ball, TeamL, TeamR - I left the Ball in first Position to have it at index 0 to have the players line up with indices 1 to 22.\n",
    "Having the Ball's position last might be more common"
   ]
  },
  {
   "cell_type": "code",
   "execution_count": 10,
   "metadata": {},
   "outputs": [],
   "source": [
    "#We'll take the last 4 columns of the first row and put them below the first 4 columns of the player's data\n",
    "frame_xy = np.concatenate([frame[0,4:].reshape(-1,4), frame[1:,:4]], axis = 0) #have to reshape into a row vector"
   ]
  },
  {
   "cell_type": "markdown",
   "metadata": {},
   "source": [
    "We could do the reshaping for the whole sequence, but for now I'll leave it at reshaping one frame at a time"
   ]
  },
  {
   "cell_type": "markdown",
   "metadata": {},
   "source": [
    "##### Verify"
   ]
  },
  {
   "cell_type": "code",
   "execution_count": 11,
   "metadata": {},
   "outputs": [
    {
     "data": {
      "text/plain": [
       "array([[-0.1655, -2.4616, 0.22699999999999998, -1.2868],\n",
       "       [-50.0951, -0.3013, 0.0, 0.0],\n",
       "       [-14.9207, -4.7558, -0.00390625, -0.00759888],\n",
       "       [-14.9437, 4.6171, -0.00689697, 0.013595600000000001],\n",
       "       [-11.6683, -15.474, -0.033493, -0.00419617],\n",
       "       [-12.0468, 15.3523, -0.06530760000000001, 0.0639038],\n",
       "       [-1.3307, -0.44239799999999996, 0.0, 0.0],\n",
       "       [-0.6669010000000001, -7.0334, 0.173096, -0.072403],\n",
       "       [-0.8316959999999999, 6.4734, 0.0, 0.0],\n",
       "       [1.47749, -23.9598, 0.250305, 0.00970459],\n",
       "       [1.76331, 26.2689, 0.26969899999999997, -0.0187073],\n",
       "       [1.22701, -0.24780300000000002, 0.172806, -0.0341949],\n",
       "       [40.6127, 1.3284, 0.00019836400000000003, -0.00250244],\n",
       "       [14.6145, 3.0621, -0.156998, -0.154099],\n",
       "       [14.1235, -1.3941, -0.179596, 0.23590100000000003],\n",
       "       [15.0673, 19.3156, -0.00559998, 0.0890045],\n",
       "       [15.1464, -17.338, -0.100494, -0.290695],\n",
       "       [7.2312899999999996, -0.3022, -0.28880300000000003, -0.0402985],\n",
       "       [9.2124, 10.0075, -0.030807499999999998, 0.00849915],\n",
       "       [8.4427, -10.9403, -0.280106, -0.20979299999999998],\n",
       "       [2.2998, 22.6358, -0.105698, 0.0702057],\n",
       "       [2.94521, -23.0943, -0.27670300000000003, -0.072403],\n",
       "       [5.5894, -2.2198900000000004, -0.328796, 0.247604]], dtype=object)"
      ]
     },
     "execution_count": 11,
     "metadata": {},
     "output_type": "execute_result"
    }
   ],
   "source": [
    "frame_xy"
   ]
  },
  {
   "cell_type": "markdown",
   "metadata": {},
   "source": [
    "### So let's plot this"
   ]
  },
  {
   "cell_type": "markdown",
   "metadata": {},
   "source": [
    "##### First we should create a function that plots the pitch:"
   ]
  },
  {
   "cell_type": "code",
   "execution_count": 12,
   "metadata": {},
   "outputs": [],
   "source": [
    "def drawfield(ax):\n",
    "    '''\n",
    "    Draws the pitch on an axes object\n",
    "    '''\n",
    "    plt.sca(ax)\n",
    "    plt.axis([-53.5,53.5,-35,35])\n",
    "\n",
    "    linecolor = 'w'\n",
    "    \n",
    "    circle = plt.Circle((0, 0), radius=9.15, fc='None', color = linecolor, lw=1)\n",
    "    plt.gca().add_patch(circle)\n",
    "    \n",
    "    fiveyard1 = plt.Rectangle((-52.5, -9.12), 5.5, 18.32, fc='None', color = linecolor, lw = 1)\n",
    "    plt.gca().add_patch(fiveyard1)\n",
    "\n",
    "    fiveyard2 = plt.Rectangle((52.5-5.5, -9.12), 5.5, 18.32, fc='None', color = linecolor, lw =1)\n",
    "    plt.gca().add_patch(fiveyard2)\n",
    "    \n",
    "    box1 = plt.Rectangle((-52.5, -20.12), 16.5, 40.24, fc='None', color = linecolor, lw = 1)\n",
    "    plt.gca().add_patch(box1)\n",
    "    \n",
    "    box2 = plt.Rectangle((52.5-16.5, -20.12), 16.5, 40.24, fc='None', color = linecolor, lw =1)\n",
    "    plt.gca().add_patch(box2)\n",
    "    \n",
    "    midline = plt.Line2D((0,0),(34,-34), c = linecolor, lw = 1)\n",
    "    plt.gca().add_line(midline)\n",
    "    \n",
    "    leftgoalline = plt.Line2D((-52.5,-52.5),(34,-34), c = linecolor, lw = 1)\n",
    "    plt.gca().add_line(leftgoalline)\n",
    "    \n",
    "    rightgoalline = plt.Line2D((52.5,52.5),(34,-34), c = linecolor, lw = 1)\n",
    "    plt.gca().add_line(rightgoalline)\n",
    "    \n",
    "    topfieldline = plt.Line2D((-52.5,52.5),(34,34), c = linecolor, lw = 1)\n",
    "    plt.gca().add_line(topfieldline)\n",
    "\n",
    "    bottomfieldline = plt.Line2D((-52.5,52.5),(-34,-34), c = linecolor, lw = 1)\n",
    "    plt.gca().add_line(bottomfieldline)    \n",
    "    \n",
    "    goal1 = plt.Line2D((-52.5,-52.5),(3.66,-3.66), c='k', lw = 1)\n",
    "    plt.gca().add_line(goal1)\n",
    "    \n",
    "    goal2 = plt.Line2D((52.5,52.5),(3.66,-3.66), c='k', lw = 1)\n",
    "    plt.gca().add_line(goal2)\n",
    "    \n",
    "    penalty1 = plt.Circle((-41.5,0), radius = 0.6, fc = linecolor, color=linecolor)\n",
    "    plt.gca().add_patch(penalty1)\n",
    "    \n",
    "    penalty2 = plt.Circle((41.5,0), radius = 0.6, fc = linecolor, color=linecolor)\n",
    "    plt.gca().add_patch(penalty2)\n",
    "    \n",
    "    plt.tick_params(\n",
    "        axis='both',          # changes apply to the x-axis\n",
    "        which='both',      # both major and minor ticks are affected\n",
    "        bottom='off',      # ticks along the bottom edge are off\n",
    "        top='off',         # ticks along the top edge are off\n",
    "        left='off',\n",
    "        labelleft='off',\n",
    "        labelbottom='off')"
   ]
  },
  {
   "cell_type": "markdown",
   "metadata": {},
   "source": [
    "#### Then we need a function that can extract the relevant data from the dataframe and put it into an order we can work well with\n",
    "##### And then we can use this to actually plot the player's and ball locations"
   ]
  },
  {
   "cell_type": "code",
   "execution_count": 13,
   "metadata": {},
   "outputs": [],
   "source": [
    "#define an array for the colors [Ball, 11*TeamL, 11*TeamR]\n",
    "colors = ['k'] + 11*['r'] + 11*['SkyBlue']\n",
    "\n",
    "def get_frame_xy_data(frame_nr):\n",
    "    '''\n",
    "    returns the xy-coordinates and xy-velocities for the 22 players and the ball\n",
    "    '''\n",
    "    frame = np.array(data.iloc[frame_nr,:]).reshape(-1,8) #reshape each player's variables into one row\n",
    "    return np.concatenate([frame[0,4:].reshape(-1,4), frame[1:,:4]], axis = 0) #have to reshape into one row vector\n",
    "\n",
    "\n",
    "def plot_frame(fig, ax, frame):\n",
    "    '''\n",
    "    plots the x- and y-coordinates of players and the ball\n",
    "    '''\n",
    "    #Clear the axes to get rid of the old objects\n",
    "    plt.cla()\n",
    "    \n",
    "    #get the positional data for this frame\n",
    "    frame_xy = get_frame_xy_data(frame)\n",
    "    #draw the pitch, players and the ball\n",
    "    drawfield(ax)    \n",
    "    sc = plt.scatter(frame_xy[:,0],\n",
    "               frame_xy[:,1],\n",
    "               c = 'w',\n",
    "               edgecolors = colors,\n",
    "               linewidth = 1.5)"
   ]
  },
  {
   "cell_type": "markdown",
   "metadata": {},
   "source": [
    "### We can use those functions to plot a frame"
   ]
  },
  {
   "cell_type": "code",
   "execution_count": 20,
   "metadata": {},
   "outputs": [
    {
     "name": "stderr",
     "output_type": "stream",
     "text": [
      "C:\\ProgramData\\Anaconda3\\lib\\site-packages\\matplotlib\\cbook\\__init__.py:424: MatplotlibDeprecationWarning: \n",
      "Passing one of 'on', 'true', 'off', 'false' as a boolean is deprecated; use an actual boolean (True/False) instead.\n",
      "  warn_deprecated(\"2.2\", \"Passing one of 'on', 'true', 'off', 'false' as a \"\n",
      "C:\\ProgramData\\Anaconda3\\lib\\site-packages\\matplotlib\\cbook\\__init__.py:424: MatplotlibDeprecationWarning: \n",
      "Passing one of 'on', 'true', 'off', 'false' as a boolean is deprecated; use an actual boolean (True/False) instead.\n",
      "  warn_deprecated(\"2.2\", \"Passing one of 'on', 'true', 'off', 'false' as a \"\n",
      "C:\\ProgramData\\Anaconda3\\lib\\site-packages\\matplotlib\\cbook\\__init__.py:424: MatplotlibDeprecationWarning: \n",
      "Passing one of 'on', 'true', 'off', 'false' as a boolean is deprecated; use an actual boolean (True/False) instead.\n",
      "  warn_deprecated(\"2.2\", \"Passing one of 'on', 'true', 'off', 'false' as a \"\n",
      "C:\\ProgramData\\Anaconda3\\lib\\site-packages\\matplotlib\\cbook\\__init__.py:424: MatplotlibDeprecationWarning: \n",
      "Passing one of 'on', 'true', 'off', 'false' as a boolean is deprecated; use an actual boolean (True/False) instead.\n",
      "  warn_deprecated(\"2.2\", \"Passing one of 'on', 'true', 'off', 'false' as a \"\n",
      "C:\\ProgramData\\Anaconda3\\lib\\site-packages\\matplotlib\\cbook\\__init__.py:424: MatplotlibDeprecationWarning: \n",
      "Passing one of 'on', 'true', 'off', 'false' as a boolean is deprecated; use an actual boolean (True/False) instead.\n",
      "  warn_deprecated(\"2.2\", \"Passing one of 'on', 'true', 'off', 'false' as a \"\n"
     ]
    },
    {
     "data": {
      "image/png": "[encoded data removed]",
      "text/plain": [
       "<Figure size 576x432 with 1 Axes>"
      ]
     },
     "metadata": {},
     "output_type": "display_data"
    }
   ],
   "source": [
    "#Create a Figure object that holds an axes object, on which to plot on.\n",
    "fig, ax = plt.subplots(figsize=(8,6))\n",
    "\n",
    "#Call our function to plot the frame\n",
    "plot_frame(fig, ax, frame = 200)"
   ]
  },
  {
   "cell_type": "markdown",
   "metadata": {},
   "source": [
    "### Or we can use the power of some ipywidgets to be able to playback a whole sequence:"
   ]
  },
  {
   "cell_type": "code",
   "execution_count": 15,
   "metadata": {},
   "outputs": [],
   "source": [
    "from ipywidgets import interactive, fixed, IntSlider, jslink, Layout, HBox, Dropdown, FloatSlider, Play\n",
    "from IPython.display import display"
   ]
  },
  {
   "cell_type": "code",
   "execution_count": 16,
   "metadata": {},
   "outputs": [],
   "source": [
    "#Create a Play Widget With Play, Stop and End Buttons\n",
    "play = Play(\n",
    "    #interval=1,\n",
    "    value=1,\n",
    "    min=0,\n",
    "    max=len(data)-1,\n",
    "    step=1,\n",
    "    description=\"Press play\",\n",
    "    disabled=False)\n",
    "\n",
    "#Create a Slider with which we can also move frames\n",
    "slider = IntSlider(\n",
    "    min=1,\n",
    "    max=len(data)-1,\n",
    "    layout=Layout(positioning = 'right')\n",
    ")\n",
    "\n",
    "#Create a Slider to adjust the playback speed with\n",
    "speed_slider = IntSlider(\n",
    "    value=1,\n",
    "    min=1,\n",
    "    max=4,\n",
    "    step=1,\n",
    "    description='Speed',\n",
    "    disabled=False,\n",
    "    continuous_update=True,\n",
    "    orientation='horizontal',\n",
    "    readout=True,\n",
    "    readout_format='.1f',\n",
    ")\n",
    "\n",
    "#link the play button's value with the slider's value\n",
    "mylink = jslink((play, 'value'), (slider, 'value'))\n",
    "#link the play button's _step_ value with the speed_slider's value\n",
    "mylink2 = jslink((play, 'step'), (speed_slider, 'value'))"
   ]
  },
  {
   "cell_type": "code",
   "execution_count": 21,
   "metadata": {},
   "outputs": [
    {
     "data": {
      "application/vnd.jupyter.widget-view+json": {
       "model_id": "2f298e4f897a462c892c82af29be6461",
       "version_major": 2,
       "version_minor": 0
      },
      "text/plain": [
       "HBox(children=(IntSlider(value=1, description='Speed', max=4, min=1, readout_format='.1f'), Play(value=2501, d…"
      ]
     },
     "metadata": {},
     "output_type": "display_data"
    },
    {
     "data": {
      "image/png": "[encoded data removed]",
      "text/plain": [
       "<Figure size 576x432 with 1 Axes>"
      ]
     },
     "metadata": {
      "needs_background": "light"
     },
     "output_type": "display_data"
    },
    {
     "data": {
      "image/png": "[encoded data removed]",
      "text/plain": [
       "<Figure size 432x288 with 1 Axes>"
      ]
     },
     "metadata": {
      "needs_background": "light"
     },
     "output_type": "display_data"
    }
   ],
   "source": [
    "fig, ax = plt.subplots(figsize = (8,6))\n",
    "\n",
    "#Create an interactive widget that calls the function plot_frame with the\n",
    "#specified parameters with the frame being specified by the slider value\n",
    "i = interactive(plot_frame, fig=fixed(fig), ax=fixed(ax), frame = slider)\n",
    "\n",
    "#Put the Slider and the Play-Widget into a Horizontal Box\n",
    "box = HBox([speed_slider, play, i]) \n",
    "\n",
    "#display the widgets\n",
    "display(box) "
   ]
  },
  {
   "cell_type": "markdown",
   "metadata": {},
   "source": [
    "#### Now you should have a baseline to begin playing around with and for building some analytics and visualizations on top of"
   ]
  }
 ],
 "metadata": {
  "kernelspec": {
   "display_name": "Python 3",
   "language": "python",
   "name": "python3"
  },
  "language_info": {
   "codemirror_mode": {
    "name": "ipython",
    "version": 3
   },
   "file_extension": ".py",
   "mimetype": "text/x-python",
   "name": "python",
   "nbconvert_exporter": "python",
   "pygments_lexer": "ipython3",
   "version": "3.7.1"
  }
 },
 "nbformat": 4,
 "nbformat_minor": 2
}
